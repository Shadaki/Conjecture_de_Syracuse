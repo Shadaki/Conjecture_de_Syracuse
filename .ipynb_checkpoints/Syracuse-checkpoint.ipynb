{
 "cells": [
  {
   "cell_type": "code",
   "execution_count": null,
   "metadata": {
    "scrolled": true
   },
   "outputs": [],
   "source": [
    "!pip install matplotlib"
   ]
  },
  {
   "cell_type": "markdown",
   "metadata": {},
   "source": [
    "### Code pour un seul nombre (étapes + durée de vol + plafond atteint)"
   ]
  },
  {
   "cell_type": "code",
   "execution_count": null,
   "metadata": {},
   "outputs": [],
   "source": [
    "n=int(input())\n",
    "p,d=n,0\n",
    "print()\n",
    "while n!=1:\n",
    "    print(int(n))\n",
    "    if n%2==1: n=n*3+1\n",
    "    else: n/=2\n",
    "    if n>p: p=n\n",
    "    d+=1\n",
    "print(1)\n",
    "print(\"\\nDurée de vol : \"+str(d))\n",
    "print(\"Plafond atteint : \"+str(int(p)))"
   ]
  },
  {
   "cell_type": "markdown",
   "metadata": {},
   "source": [
    "### Code pour un seul nombre (graphique des étapes)"
   ]
  },
  {
   "cell_type": "code",
   "execution_count": null,
   "metadata": {},
   "outputs": [],
   "source": [
    "import matplotlib.pyplot as plt\n",
    "\n",
    "y_axis=[]\n",
    "n=int(input())\n",
    "n_0=n\n",
    "while n!=1:\n",
    "    y_axis.append(n)\n",
    "    if n%2==1: n=n*3+1\n",
    "    else: n/=2\n",
    "x_axis=[n for n in range(len(y_axis))]\n",
    "plt.plot(x_axis,y_axis)\n",
    "plt.title(\"Transformation de Collatz de \"+str(n_0))\n",
    "plt.xlabel(\"Étape n de la transformation\")\n",
    "plt.ylabel(\"Résultat de l'étape n de la transformation\")\n",
    "plt.show()"
   ]
  },
  {
   "cell_type": "markdown",
   "metadata": {},
   "source": [
    "### Code pour les nombres de 1 à n (graphique des plafonds atteints)"
   ]
  },
  {
   "cell_type": "code",
   "execution_count": null,
   "metadata": {},
   "outputs": [],
   "source": [
    "# Produit des pics tellement immenses qu'ils rendent le reste du graphique sans intérêt\n",
    "\n",
    "import matplotlib.pyplot as plt\n",
    "\n",
    "lim=int(input())\n",
    "y_axis=[]\n",
    "for n in range(1,lim+1):\n",
    "    p,n_0=n,n\n",
    "    while n!=1:\n",
    "        if n%2==1: n=n*3+1\n",
    "        else: n/=2\n",
    "        if n>p: p=n\n",
    "    y_axis.append(p)\n",
    "x_axis=[n for n in range(1,len(y_axis)+1)]\n",
    "plt.plot(x_axis,y_axis)\n",
    "plt.xlabel(\"Nombres de 1 à \"+str(lim))\n",
    "plt.ylabel(\"Plafonds des trans.\")\n",
    "plt.show()"
   ]
  },
  {
   "cell_type": "markdown",
   "metadata": {},
   "source": [
    "### Code pour les nombres de 1 à n (graphique des durées de vol)"
   ]
  },
  {
   "cell_type": "code",
   "execution_count": null,
   "metadata": {},
   "outputs": [],
   "source": [
    "import matplotlib.pyplot as plt\n",
    "\n",
    "lim=int(input())\n",
    "y_axis=[]\n",
    "for n in range(1,lim+1):\n",
    "    d=0\n",
    "    while n!=1:\n",
    "        if n%2==1: n=n*3+1\n",
    "        else: n/=2\n",
    "        d+=1\n",
    "    y_axis.append(d)\n",
    "x_axis=[n for n in range(1,len(y_axis)+1)]\n",
    "plt.scatter(x_axis,y_axis,s=2)\n",
    "plt.xlabel(\"Nombres de 1 à \"+str(lim))\n",
    "plt.ylabel(\"Durées de vol\")\n",
    "plt.savefig('collatz.png',dpi=600)\n",
    "plt.show()"
   ]
  }
 ],
 "metadata": {
  "kernelspec": {
   "display_name": "Python 3",
   "language": "python",
   "name": "python3"
  },
  "language_info": {
   "codemirror_mode": {
    "name": "ipython",
    "version": 3
   },
   "file_extension": ".py",
   "mimetype": "text/x-python",
   "name": "python",
   "nbconvert_exporter": "python",
   "pygments_lexer": "ipython3",
   "version": "3.7.4"
  }
 },
 "nbformat": 4,
 "nbformat_minor": 2
}
